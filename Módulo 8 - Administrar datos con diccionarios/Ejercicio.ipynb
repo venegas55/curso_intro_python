{
 "cells": [
  {
   "cell_type": "code",
   "execution_count": null,
   "metadata": {},
   "outputs": [],
   "source": [
    "#planet = {}\n",
    "\n",
    "planet['orbital period'] = 4333\n",
    "\n",
    "#no puedes agregar claves si no está declarado el diccionario primero.\n",
    "\n"
   ]
  }
 ],
 "metadata": {
  "language_info": {
   "name": "python"
  },
  "orig_nbformat": 4
 },
 "nbformat": 4,
 "nbformat_minor": 2
}
