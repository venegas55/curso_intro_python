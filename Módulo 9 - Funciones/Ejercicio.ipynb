{
 "cells": [
  {
   "cell_type": "code",
   "execution_count": 10,
   "metadata": {},
   "outputs": [
    {
     "name": "stdout",
     "output_type": "stream",
     "text": [
      "3\n",
      "None\n",
      "14\n"
     ]
    }
   ],
   "source": [
    "def calculadora(x,y):\n",
    "    suma = x+y\n",
    "    print(suma)\n",
    "\n",
    "valor = calculadora(1,2)\n",
    "print(valor)\n",
    "calculadora(7,7)\n"
   ]
  },
  {
   "cell_type": "code",
   "execution_count": 11,
   "metadata": {},
   "outputs": [
    {
     "name": "stdout",
     "output_type": "stream",
     "text": [
      "3\n",
      "3\n",
      "14\n"
     ]
    },
    {
     "data": {
      "text/plain": [
       "14"
      ]
     },
     "execution_count": 11,
     "metadata": {},
     "output_type": "execute_result"
    }
   ],
   "source": [
    "def calculadora(x,y):\n",
    "    suma = x+y\n",
    "    print(suma)\n",
    "    return suma\n",
    "\n",
    "valor = calculadora(1,2)\n",
    "print(valor)\n",
    "calculadora(7,7)"
   ]
  }
 ],
 "metadata": {
  "interpreter": {
   "hash": "1397cb32a0e629ae64d59183399021de7d3060a341f71bd018dd4c6e78734ba7"
  },
  "kernelspec": {
   "display_name": "Python 3.10.2 64-bit (windows store)",
   "language": "python",
   "name": "python3"
  },
  "language_info": {
   "codemirror_mode": {
    "name": "ipython",
    "version": 3
   },
   "file_extension": ".py",
   "mimetype": "text/x-python",
   "name": "python",
   "nbconvert_exporter": "python",
   "pygments_lexer": "ipython3",
   "version": "3.10.2"
  },
  "orig_nbformat": 4
 },
 "nbformat": 4,
 "nbformat_minor": 2
}
